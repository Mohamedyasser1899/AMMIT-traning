{
 "cells": [
  {
   "cell_type": "code",
   "execution_count": 1,
   "id": "64f2d921",
   "metadata": {},
   "outputs": [],
   "source": [
    "#method of dunder\n",
    "#__new__() method\n",
    "#the __new__() magic method is implicitly called before the __init__() method. The __new__() method returns a new object, \n",
    "#which is then initialized by __init__().\n",
    "\n",
    "class Employee:\n",
    "    def __init__(self):\n",
    "        self.name='Swati'\n",
    "        self.salary=10000\n",
    "    def __str__(self):\n",
    "        return 'name='+self.name+' salary=$'+str(self.salary)"
   ]
  },
  {
   "cell_type": "code",
   "execution_count": 13,
   "id": "5999aed9",
   "metadata": {},
   "outputs": [],
   "source": [
    "#__ge__() method\n",
    "#The following method is added in the distance class to overload the >= operator\n",
    "\n",
    "class distance:\n",
    "    def __init__(self, x=None,y=None):\n",
    "        self.ft=x\n",
    "        self.inch=y\n",
    "    def __ge__(self, x):\n",
    "        val1=self.ft*12+self.inch\n",
    "        val2=x.ft*12+x.inch\n",
    "        if val1>=val2:\n",
    "            return True\n",
    "        else:\n",
    "            return False"
   ]
  },
  {
   "cell_type": "code",
   "execution_count": 15,
   "id": "29c17399",
   "metadata": {},
   "outputs": [],
   "source": [
    "#__add__() method\n",
    "#In following function a class named distance is defined with two instance attributes - ft and inch. \n",
    "#The addition of these two distance objects is desired to be performed using the overloading + operator.\n",
    "#To achieve this, the magic method __add__() is overridden,\n",
    "#which performs the addition of the ft and inch attributes of the two objects.\n",
    "#The __str__() method returns the object's string representation.\n",
    "\n",
    "\n",
    "class distance:\n",
    "    def __init__(self, x=None,y=None):\n",
    "        self.ft=x\n",
    "        self.inch=y\n",
    "    def __add__(self,x):\n",
    "        temp=distance()\n",
    "        temp.ft=self.ft+x.ft\n",
    "        temp.inch=self.inch+x.inch\n",
    "        if temp.inch>=12:\n",
    "            temp.ft+=1\n",
    "            temp.inch-=12\n",
    "            return temp\n",
    "    def __str__(self):\n",
    "        return 'ft:'+str(self.ft)+' in: '+str(self.inch)"
   ]
  },
  {
   "cell_type": "code",
   "execution_count": null,
   "id": "0ee309bc",
   "metadata": {},
   "outputs": [],
   "source": [
    "#In Python the __new__() magic method is implicitly called before the __init__() method. \n",
    "#The __new__() method returns a new object, which is then initialized by __init__().\n",
    "\n",
    "class Employee:\n",
    " def __new__(cls):\n",
    "   print (\"__new__ magic method is called\")\n",
    "          inst = object.__new__(cls)\n",
    "             return inst\n",
    " def __init__(self):\n",
    "  print (\"__init__ magic method is called\")\n",
    "        self.name='Satya'"
   ]
  },
  {
   "cell_type": "code",
   "execution_count": 48,
   "id": "d319a566",
   "metadata": {},
   "outputs": [
    {
     "name": "stdout",
     "output_type": "stream",
     "text": [
      "Calling protected member of base class:  2\n",
      "Calling modified protected member outside class:  3\n",
      "Accessing protected member of obj1:  3\n",
      "Accessing protected member of obj2:  2\n"
     ]
    }
   ],
   "source": [
    "#Encapsulation\n",
    "\n",
    "\n",
    "\n",
    "# Python program to\n",
    "# demonstrate protected members\n",
    "\n",
    "# Creating a base class\n",
    "class Base:\n",
    "   def __init__(self):\n",
    "\n",
    "# Protected member\n",
    "        self._a = 2\n",
    "\n",
    "# Creating a derived class\n",
    "class Derived(Base):\n",
    "   def __init__(self):\n",
    "\n",
    "# Calling constructor of\n",
    "# Base class\n",
    "        Base.__init__(self)\n",
    "        print(\"Calling protected member of base class: \",\n",
    "           self._a)\n",
    "\n",
    "# Modify the protected variable:\n",
    "        self._a = 3\n",
    "        print(\"Calling modified protected member outside class: \",\n",
    "          self._a)\n",
    "\n",
    "\n",
    "obj1 = Derived()\n",
    "\n",
    "obj2 = Base()\n",
    "\n",
    "# Calling protected member\n",
    "# Can be accessed but should not be done due to convention\n",
    "print(\"Accessing protected member of obj1: \", obj1._a)\n",
    "\n",
    "# Accessing the protected variable outside\n",
    "print(\"Accessing protected member of obj2: \", obj2._a)\n"
   ]
  },
  {
   "cell_type": "code",
   "execution_count": 47,
   "id": "8eacb5d8",
   "metadata": {},
   "outputs": [
    {
     "name": "stdout",
     "output_type": "stream",
     "text": [
      "GeeksforGeeks\n"
     ]
    }
   ],
   "source": [
    "# Python program to\n",
    "# demonstrate private members\n",
    "\n",
    "# Creating a Base class\n",
    "\n",
    "\n",
    "class Base:\n",
    "    def __init__(self):\n",
    "        self.a = \"GeeksforGeeks\"\n",
    "        self.__c = \"GeeksforGeeks\"\n",
    "\n",
    "# Creating a derived class\n",
    "class Derived(Base):\n",
    "    def __init__(self):\n",
    "\n",
    "# Calling constructor of\n",
    "# Base class\n",
    "        Base.__init__(self)\n",
    "        print(\"Calling private member of base class: \")\n",
    "        print(self.__c)\n",
    "\n",
    "\n",
    "# Driver code\n",
    "obj1 = Base()\n",
    "print(obj1.a)\n",
    "\n",
    "# Uncommenting print(obj1.c) will\n",
    "# raise an AttributeError\n",
    "\n",
    "# Uncommenting obj2 = Derived() will\n",
    "# also raise an AtrributeError as\n",
    "# private member of base class\n",
    "# is called inside derived class\n"
   ]
  },
  {
   "cell_type": "code",
   "execution_count": 34,
   "id": "4cd4b289",
   "metadata": {},
   "outputs": [
    {
     "name": "stdout",
     "output_type": "stream",
     "text": [
      "The mileage is 30kmph\n",
      "The mileage is 27kmph \n",
      "The mileage is 25kmph \n",
      "The mileage is 24kmph \n"
     ]
    }
   ],
   "source": [
    "#Abstraction\n",
    "# Python program demonstrate  \n",
    "# abstract base class work   \n",
    "from abc import ABC, abstractmethod   \n",
    "class Car(ABC):   \n",
    "    def mileage(self):   \n",
    "        pass  \n",
    "  \n",
    "class Tesla(Car):   \n",
    "    def mileage(self):   \n",
    "        print(\"The mileage is 30kmph\")   \n",
    "class Suzuki(Car):   \n",
    "    def mileage(self):   \n",
    "        print(\"The mileage is 25kmph \")   \n",
    "class Duster(Car):   \n",
    "     def mileage(self):   \n",
    "          print(\"The mileage is 24kmph \")   \n",
    "  \n",
    "class Renault(Car):   \n",
    "    def mileage(self):   \n",
    "            print(\"The mileage is 27kmph \")   \n",
    "          \n",
    "# Driver code   \n",
    "t= Tesla ()   \n",
    "t.mileage()   \n",
    "  \n",
    "r = Renault()   \n",
    "r.mileage()   \n",
    "  \n",
    "s = Suzuki()   \n",
    "s.mileage()   \n",
    "d = Duster()   \n",
    "d.mileage()  "
   ]
  },
  {
   "cell_type": "code",
   "execution_count": 38,
   "id": "6f00e593",
   "metadata": {},
   "outputs": [
    {
     "name": "stdout",
     "output_type": "stream",
     "text": [
      "First argument : Hello\n",
      "Next argument through *argv : from\n",
      "Next argument through *argv : other\n",
      "Next argument through *argv : side\n"
     ]
    }
   ],
   "source": [
    "#args\n",
    "#Python program to illustrate *args for a variable number of arguments\n",
    "\n",
    "def myFun(arg1, *argv):\n",
    "    print(\"First argument :\", arg1)\n",
    "    for arg in argv:\n",
    "         print(\"Next argument through *argv :\", arg)\n",
    "\n",
    "\n",
    "myFun('Hello', 'from', \"other\", 'side')\n"
   ]
  },
  {
   "cell_type": "code",
   "execution_count": 40,
   "id": "09adcb10",
   "metadata": {},
   "outputs": [
    {
     "name": "stdout",
     "output_type": "stream",
     "text": [
      "Hello\n",
      "from\n",
      "other\n",
      "side\n"
     ]
    }
   ],
   "source": [
    "#Python program to illustrate *args with a first extra argument\n",
    "def myFun(*argv):\n",
    "    for arg in argv:\n",
    "        print(arg)\n",
    "\n",
    "\n",
    "myFun('Hello', 'from', 'other', 'side')\n"
   ]
  },
  {
   "cell_type": "code",
   "execution_count": 42,
   "id": "bac00764",
   "metadata": {},
   "outputs": [
    {
     "name": "stdout",
     "output_type": "stream",
     "text": [
      "first == mohamed \n",
      "mid == yasser\n",
      "last == ali\n"
     ]
    }
   ],
   "source": [
    "#Python program to illustrate *kwargs for a variable number of keyword arguments.\n",
    "def myFun(**kwargs):\n",
    "    for key, value in kwargs.items():\n",
    "        print(\"%s == %s\" % (key, value))\n",
    "\n",
    "\n",
    "# Driver code\n",
    "myFun(first='mohamed ', mid='yasser', last='ali')\n"
   ]
  },
  {
   "cell_type": "code",
   "execution_count": 44,
   "id": "95bba5ba",
   "metadata": {},
   "outputs": [
    {
     "name": "stdout",
     "output_type": "stream",
     "text": [
      "first == mohamed\n",
      "mid == yasser\n",
      "last == ali\n"
     ]
    }
   ],
   "source": [
    "#Python program to illustrate  **kwargs for a variable number of keyword arguments with one extra argument\n",
    "def myFun(arg1, **kwargs):\n",
    "    for key, value in kwargs.items():\n",
    "        print(\"%s == %s\" % (key, value))\n",
    "\n",
    "\n",
    "# Driver code\n",
    "myFun(\"Hi\", first='mohamed', mid='yasser', last='ali')\n"
   ]
  },
  {
   "cell_type": "code",
   "execution_count": 45,
   "id": "95eac599",
   "metadata": {},
   "outputs": [
    {
     "name": "stdout",
     "output_type": "stream",
     "text": [
      "arg1: mohamed\n",
      "arg2: yasser\n",
      "arg3: ali\n",
      "arg1: mohamed\n",
      "arg2: yasser\n",
      "arg3: ali\n"
     ]
    }
   ],
   "source": [
    "#Using both *args and **kwargs to call a function\n",
    "#Here, we are passing *args and **kwargs as an argument in the myFun function, \n",
    "#After passing all the data we are printing all the data in lines.\n",
    "def myFun(arg1, arg2, arg3):\n",
    "    print(\"arg1:\", arg1)\n",
    "    print(\"arg2:\", arg2)\n",
    "    print(\"arg3:\", arg3)\n",
    "\n",
    "\n",
    "# Now we can use *args or **kwargs to\n",
    "# pass arguments to this function :\n",
    "args = (\"mohamed\", \"yasser\", \"ali\")\n",
    "myFun(*args)\n",
    "\n",
    "kwargs = {\"arg1\": \"mohamed\", \"arg2\": \"yasser\", \"arg3\": \"ali\"}\n",
    "myFun(**kwargs)\n"
   ]
  },
  {
   "cell_type": "code",
   "execution_count": 46,
   "id": "d3d97d6d",
   "metadata": {},
   "outputs": [
    {
     "name": "stdout",
     "output_type": "stream",
     "text": [
      "args:  ('mohamed', 'yasser', 'ali')\n",
      "kwargs:  {'first': 'mohamed', 'mid': 'yasser', 'last': 'ali'}\n"
     ]
    }
   ],
   "source": [
    "#Here, we are passing *args and **kwargs as an argument in the myFun function. \n",
    "#where ‘geeks’, ‘for’, ‘geeks’ is passed as *args, \n",
    "#and first=”Geeks”, mid=”for”, last=”Geeks”  is pased as **kwargs and printing in the same line.\n",
    "def myFun(*args, **kwargs):\n",
    "    print(\"args: \", args)\n",
    "    print(\"kwargs: \", kwargs)\n",
    "\n",
    "\n",
    "# Now we can use both *args ,**kwargs\n",
    "# to pass arguments to this function :\n",
    "myFun('mohamed', 'yasser', 'ali', first=\"mohamed\", mid=\"yasser\", last=\"ali\")\n"
   ]
  },
  {
   "cell_type": "code",
   "execution_count": null,
   "id": "4a90faa6",
   "metadata": {},
   "outputs": [],
   "source": []
  }
 ],
 "metadata": {
  "kernelspec": {
   "display_name": "Python 3 (ipykernel)",
   "language": "python",
   "name": "python3"
  },
  "language_info": {
   "codemirror_mode": {
    "name": "ipython",
    "version": 3
   },
   "file_extension": ".py",
   "mimetype": "text/x-python",
   "name": "python",
   "nbconvert_exporter": "python",
   "pygments_lexer": "ipython3",
   "version": "3.9.12"
  }
 },
 "nbformat": 4,
 "nbformat_minor": 5
}
