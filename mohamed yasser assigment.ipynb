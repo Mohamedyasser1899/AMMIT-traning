{
 "cells": [
  {
   "cell_type": "code",
   "execution_count": 1,
   "id": "712a5c38",
   "metadata": {},
   "outputs": [
    {
     "name": "stdout",
     "output_type": "stream",
     "text": [
      "Enter two values: 5,   6\n"
     ]
    }
   ],
   "source": [
    "x, y = input(\"Enter two values: \").split()"
   ]
  },
  {
   "cell_type": "code",
   "execution_count": 2,
   "id": "d1dd2a59",
   "metadata": {},
   "outputs": [
    {
     "name": "stdout",
     "output_type": "stream",
     "text": [
      "first number:  5,\n"
     ]
    }
   ],
   "source": [
    "print(\"first number: \", x)"
   ]
  },
  {
   "cell_type": "code",
   "execution_count": 3,
   "id": "42ca448c",
   "metadata": {},
   "outputs": [
    {
     "name": "stdout",
     "output_type": "stream",
     "text": [
      "Number of girls:  6\n"
     ]
    }
   ],
   "source": [
    "print(\"Number of girls: \", y)"
   ]
  },
  {
   "cell_type": "code",
   "execution_count": null,
   "id": "d58c213e",
   "metadata": {},
   "outputs": [],
   "source": []
  }
 ],
 "metadata": {
  "kernelspec": {
   "display_name": "Python 3 (ipykernel)",
   "language": "python",
   "name": "python3"
  },
  "language_info": {
   "codemirror_mode": {
    "name": "ipython",
    "version": 3
   },
   "file_extension": ".py",
   "mimetype": "text/x-python",
   "name": "python",
   "nbconvert_exporter": "python",
   "pygments_lexer": "ipython3",
   "version": "3.9.12"
  }
 },
 "nbformat": 4,
 "nbformat_minor": 5
}
